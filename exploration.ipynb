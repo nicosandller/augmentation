{
 "cells": [
  {
   "cell_type": "code",
   "execution_count": 1,
   "metadata": {},
   "outputs": [],
   "source": [
    "import struct\n",
    "import itertools\n",
    "import numpy as np\n",
    "import matplotlib.pyplot as plt"
   ]
  },
  {
   "cell_type": "code",
   "execution_count": 2,
   "metadata": {},
   "outputs": [],
   "source": [
    "#https://medium.com/@mannasiladittya/converting-mnist-data-in-idx-format-to-python-numpy-array-5cb9126f99f1"
   ]
  },
  {
   "cell_type": "code",
   "execution_count": 5,
   "metadata": {},
   "outputs": [],
   "source": [
    "filename = {'images' : 'augumentation/data/train-images.idx3-ubyte' ,'labels' : 'augumentation/data/train-labels.idx1-ubyte'}"
   ]
  },
  {
   "cell_type": "code",
   "execution_count": 346,
   "metadata": {},
   "outputs": [],
   "source": [
    "# train_imagesfile = open(filename['images'],'rb')\n",
    "# train_labels = open(filename['labels'],'rb')\n",
    "\n",
    "# # images\n",
    "# magic_bytes = train_imagesfile.read(4)\n",
    "# n_imgs_bytes = train_imagesfile.read(4)\n",
    "# n_row_bytes = train_imagesfile.read(4)\n",
    "# n_col_bytes = train_imagesfile.read(4)\n",
    "\n",
    "# # labels\n",
    "# magic_bytes_lbls = train_labels.read(4)\n",
    "# imgs_bytes_lbls = train_labels.read(4)\n",
    "\n",
    "# # images\n",
    "# magic = struct.unpack('>4B',magic_bytes)\n",
    "# n_imgs = struct.unpack('>I',n_imgs_bytes)[0]\n",
    "# n_rows = struct.unpack('>I',n_row_bytes)[0] \n",
    "# n_cols = struct.unpack('>I',n_col_bytes)[0]\n",
    "\n",
    "# # labels\n",
    "# magic_lbls = struct.unpack('>4B',magic_bytes_lbls)\n",
    "# n_imgs_lbls = struct.unpack('>I',imgs_bytes_lbls)[0]\n",
    "\n",
    "# # Type of data and n of dimensions\n",
    "# print(magic[2], magic[3])\n",
    "# # n of images\n",
    "# print(n_imgs)\n",
    "# # image pixel height and width\n",
    "# print(n_rows, n_cols)\n",
    "\n",
    "# # Type of data and n of dimensions of labels\n",
    "# print(magic_lbls[2], magic_lbls[3])\n",
    "\n",
    "# n_total_pixel_bytes = n_imgs*n_rows*n_cols\n",
    "\n",
    "# pixel_bytes = train_imagesfile.read(n_total_pixel_bytes)\n",
    "# label_bytes = train_labels.read(n_imgs)\n",
    "\n",
    "# pixel_values = struct.unpack('>'+'B'*n_total_pixel_bytes, pixel_bytes)\n",
    "# label_values = struct.unpack('>'+'B'*n_imgs, label_bytes)\n",
    "\n",
    "# pixel_values_as_mtrx = np.asarray(pixel_values).reshape((n_imgs,n_rows,n_cols))\n",
    "# images_ndarray = pixel_values_as_mtrx\n",
    "\n",
    "# images_rescaled = images_ndarray / 255\n",
    "\n",
    "\n",
    "# Column changes first, when col = 28 then row changes\n",
    "#(0,1) ------ (0,28)\n",
    "#(1,1) ------ (1,28)\n",
    "\n",
    "# pixel_pos = 265\n",
    "\n",
    "# print(pixel_values[260:270])\n",
    "\n",
    "# # img number\n",
    "# print(np.floor(pixel_pos / (28*28)))\n",
    "\n",
    "# # number of rows of 28 pixels before this pixel = row number\n",
    "# print(np.floor(pixel_pos / 28))\n",
    "\n",
    "# # column number\n",
    "# print(pixel_pos % 28)\n",
    "\n",
    "# # rebuilding pixel\n",
    "# print(pixel_values_as_mtrx[0][9][13])"
   ]
  },
  {
   "cell_type": "code",
   "execution_count": 1289,
   "metadata": {},
   "outputs": [],
   "source": [
    "np.random.seed(0)"
   ]
  },
  {
   "cell_type": "code",
   "execution_count": 1290,
   "metadata": {},
   "outputs": [],
   "source": [
    "digits = [3,7,8,6]"
   ]
  },
  {
   "cell_type": "code",
   "execution_count": 1291,
   "metadata": {},
   "outputs": [],
   "source": [
    "with open(filename['images'], 'rb') as train_imagesfile:\n",
    "    info_bytes = train_imagesfile.read(16)\n",
    "    (n_imgs, n_rows, n_cols) = (struct.unpack('>I', info_bytes[4:8])[0], struct.unpack('>I', info_bytes[8:12])[0], struct.unpack('>I', info_bytes[12:16])[0])\n",
    "    pixel_bytes = train_imagesfile.read(n_imgs * n_rows * n_cols)\n",
    "    images_ndarray = np.asarray(\n",
    "    struct.unpack('>' + 'B' * (n_imgs * n_rows * n_cols), pixel_bytes)).reshape((n_imgs, n_rows, n_cols)\n",
    ")\n",
    "# labels\n",
    "with open(filename['labels'], 'rb') as train_labels:\n",
    "    info_bytes = train_labels.read(8)\n",
    "    n_imgs_lbls = struct.unpack('>I',info_bytes[4:8])[0]\n",
    "    label_values = np.array(struct.unpack('>'+'B'*n_imgs, train_labels.read(n_imgs_lbls)))\n"
   ]
  },
  {
   "cell_type": "code",
   "execution_count": 1292,
   "metadata": {},
   "outputs": [
    {
     "name": "stdout",
     "output_type": "stream",
     "text": [
      "[26403, 25095, 17194, 32977]\n"
     ]
    },
    {
     "data": {
      "image/png": "[encoded data removed]",
      "text/plain": [
       "<Figure size 432x288 with 1 Axes>"
      ]
     },
     "metadata": {
      "needs_background": "light"
     },
     "output_type": "display_data"
    },
    {
     "data": {
      "image/png": "[encoded data removed]",
      "text/plain": [
       "<Figure size 432x288 with 1 Axes>"
      ]
     },
     "metadata": {
      "needs_background": "light"
     },
     "output_type": "display_data"
    },
    {
     "data": {
      "image/png": "[encoded data removed]",
      "text/plain": [
       "<Figure size 432x288 with 1 Axes>"
      ]
     },
     "metadata": {
      "needs_background": "light"
     },
     "output_type": "display_data"
    },
    {
     "data": {
      "image/png": "[encoded data removed]",
      "text/plain": [
       "<Figure size 432x288 with 1 Axes>"
      ]
     },
     "metadata": {
      "needs_background": "light"
     },
     "output_type": "display_data"
    }
   ],
   "source": [
    "digit_selection_ixs = [np.random.choice(np.where(labels_npy == x)[0], 1)[0] for x in digits]\n",
    "print(digit_selection_ixs)\n",
    "\n",
    "selected_images = images_rescaled[digit_selection_ixs]\n",
    "\n",
    "for image in selected_images:   \n",
    "    plt.imshow((1 - image), cmap=\"gray\")\n",
    "    plt.show()"
   ]
  },
  {
   "cell_type": "code",
   "execution_count": 1293,
   "metadata": {},
   "outputs": [],
   "source": [
    "# Spacing\n",
    "n_digits = len(digits)"
   ]
  },
  {
   "cell_type": "code",
   "execution_count": 1294,
   "metadata": {},
   "outputs": [
    {
     "name": "stdout",
     "output_type": "stream",
     "text": [
      "[(1, 1, 4), (1, 2, 3), (1, 3, 2), (1, 4, 1), (2, 1, 3), (2, 2, 2), (2, 3, 1), (3, 1, 2), (3, 2, 1), (4, 1, 1)]\n"
     ]
    }
   ],
   "source": [
    "spacing_options = list(permutations_w_constraints(n_digits-1, 6, 1, 4))\n",
    "print(spacing_options)"
   ]
  },
  {
   "cell_type": "code",
   "execution_count": 1295,
   "metadata": {},
   "outputs": [
    {
     "data": {
      "text/plain": [
       "(1, 4, 1)"
      ]
     },
     "execution_count": 1295,
     "metadata": {},
     "output_type": "execute_result"
    }
   ],
   "source": [
    "spaces = spacing_options[np.random.choice(len(spacing_options),1)[0]]\n",
    "spaces"
   ]
  },
  {
   "cell_type": "code",
   "execution_count": 1296,
   "metadata": {},
   "outputs": [],
   "source": [
    "spaces_matrix = []\n",
    "for i in range(len(spaces)):\n",
    "    spaces_matrix.append(np.zeros(28 * spaces[i], dtype='float32').reshape(28, spaces[i]))"
   ]
  },
  {
   "cell_type": "code",
   "execution_count": 1299,
   "metadata": {},
   "outputs": [],
   "source": [
    "stacked_images = selected_images[0]\n",
    "for i in range(1, n_digits):\n",
    "    stacked_images = np.hstack([stacked_images, spaces_matrix[i-1],selected_images[i]])"
   ]
  },
  {
   "cell_type": "code",
   "execution_count": 1300,
   "metadata": {},
   "outputs": [
    {
     "data": {
      "text/plain": [
       "(28, 118)"
      ]
     },
     "execution_count": 1300,
     "metadata": {},
     "output_type": "execute_result"
    }
   ],
   "source": [
    "stacked_images.shape"
   ]
  },
  {
   "cell_type": "code",
   "execution_count": 1301,
   "metadata": {},
   "outputs": [
    {
     "data": {
      "image/png": "[encoded data removed]",
      "text/plain": [
       "<Figure size 432x288 with 1 Axes>"
      ]
     },
     "metadata": {
      "needs_background": "light"
     },
     "output_type": "display_data"
    }
   ],
   "source": [
    "plt.imshow((255 - stacked_images), cmap=\"gray\")\n",
    "plt.show()"
   ]
  },
  {
   "cell_type": "code",
   "execution_count": 1302,
   "metadata": {},
   "outputs": [
    {
     "data": {
      "text/plain": [
       "0.996078431372549"
      ]
     },
     "execution_count": 1302,
     "metadata": {},
     "output_type": "execute_result"
    }
   ],
   "source": [
    "stacked_images[15][12]"
   ]
  },
  {
   "cell_type": "code",
   "execution_count": 1303,
   "metadata": {},
   "outputs": [],
   "source": [
    "np.save('stacked_digits.npy', stacked_images)"
   ]
  },
  {
   "cell_type": "code",
   "execution_count": 1304,
   "metadata": {},
   "outputs": [
    {
     "data": {
      "text/plain": [
       "0.047058823529411764"
      ]
     },
     "execution_count": 1304,
     "metadata": {},
     "output_type": "execute_result"
    }
   ],
   "source": [
    "stacked_images[10][15]"
   ]
  },
  {
   "cell_type": "code",
   "execution_count": null,
   "metadata": {},
   "outputs": [],
   "source": []
  },
  {
   "cell_type": "code",
   "execution_count": null,
   "metadata": {},
   "outputs": [],
   "source": []
  },
  {
   "cell_type": "markdown",
   "metadata": {},
   "source": [
    "### Dirilecth distribution approach + greedy search"
   ]
  },
  {
   "cell_type": "code",
   "execution_count": 526,
   "metadata": {},
   "outputs": [],
   "source": [
    "n=10\n",
    "spacing_range = (2, 7)\n",
    "width = 320\n",
    "\n",
    "space_options = list(range(spacing_range[0], spacing_range[1]+1))\n",
    "numbers_to_generate = [3, 9, 1, 3, 7, 6, 2, 8, 7, 4]\n",
    "\n",
    "character_req_space = 28 * len(numbers_to_generate)\n",
    "character_spacing_sum = width - character_req_space"
   ]
  },
  {
   "cell_type": "code",
   "execution_count": null,
   "metadata": {},
   "outputs": [],
   "source": [
    "%%timeit\n",
    "search = True\n",
    "while search:\n",
    "    spaces = np.random.dirichlet(np.ones(len(numbers_to_generate)), 1) * (character_spacing_sum)[0]\n",
    "    round_spaces = np.around(spaces)\n",
    "    check_bounds = [True if (x >= spacing_range[0]) and (x <= spacing_range[1]) else False for x in spaces[0]]\n",
    "    if all(check_bounds):\n",
    "        search = False"
   ]
  },
  {
   "cell_type": "code",
   "execution_count": 548,
   "metadata": {},
   "outputs": [],
   "source": [
    "search = True\n",
    "while search:\n",
    "    spaces = np.random.dirichlet(np.ones(len(numbers_to_generate)), 1) * (character_spacing_sum)\n",
    "    round_spaces = np.around(spaces[0])\n",
    "    check_bounds = [True if (x >= spacing_range[0]) and (x <= spacing_range[1]) else False for x in round_spaces]\n",
    "    if all(check_bounds):\n",
    "        search = False"
   ]
  },
  {
   "cell_type": "markdown",
   "metadata": {},
   "source": [
    "### Greedy approach"
   ]
  },
  {
   "cell_type": "code",
   "execution_count": 2,
   "metadata": {},
   "outputs": [],
   "source": [
    "import struct\n",
    "import itertools\n",
    "import numpy as np\n",
    "import matplotlib.pyplot as plt"
   ]
  },
  {
   "cell_type": "code",
   "execution_count": 700,
   "metadata": {},
   "outputs": [],
   "source": [
    "from functools import lru_cache"
   ]
  },
  {
   "cell_type": "code",
   "execution_count": 709,
   "metadata": {},
   "outputs": [
    {
     "name": "stdout",
     "output_type": "stream",
     "text": [
      "4\n",
      "3\n",
      "8\n",
      "2.6666666666666665\n"
     ]
    }
   ],
   "source": [
    "image_width = 120\n",
    "#image_width = 290\n",
    "digits = [3, 7, 2, 8]\n",
    "#digits = [3, 7, 8, 6, 9, 1, 1, 2, 3]\n",
    "space_ranges = (1,2)\n",
    "\n",
    "n_digits = len(digits)\n",
    "available_space = (image_width - n_digits * 28)\n",
    "\n",
    "# space between numbers MUST be INT. No half pixels possible\n",
    "space_between_numbers = available_space / (n_digits - 1)\n",
    "\n",
    "spaces_to_assign = n_digits - 1\n",
    "\n",
    "print(n_digits)\n",
    "print(spaces_to_assign)\n",
    "print(available_space)\n",
    "print(space_between_numbers)"
   ]
  },
  {
   "cell_type": "code",
   "execution_count": 840,
   "metadata": {},
   "outputs": [],
   "source": [
    "####### LOOKING FOR AN EFFECTIVE RECURSION\n",
    "\n",
    "max_value = 4\n",
    "min_value = 2\n",
    "\n",
    "def sums(spaces_to_assign, total_sum):\n",
    "    if spaces_to_assign == 1:\n",
    "        if (total_sum <= max_value) & (total_sum >= min_value):\n",
    "            yield (total_sum,)\n",
    "    else:\n",
    "        for value in range(min_val, max_value + 1):\n",
    "            for permutation in sums(spaces_to_assign - 1, total_sum - value):\n",
    "                yield (value,) + permutation\n",
    "                \n",
    "# [for value in range 2 - 5]\n",
    "#### with value = 4\n",
    "# for permutation in sum(2, 4) -- (8-4)\n",
    "\n",
    "    # sum(2, 4):\n",
    "    # go to else\n",
    "    # for value in range 2 - 5\n",
    "\n",
    "        #### with value = 2\n",
    "        # for permutation in sum(1, 2) -- (4-2)\n",
    "        # sum(1, 2):\n",
    "        # go to length == 1:\n",
    "        #### yield (2,)\n",
    "        # (2,) yielded onto result of sum(1, 2) ---> permutation\n",
    "        # (value,) + permutation = (2,) + (2,) = (2,2)\n",
    "        # (2,2) yielded onto result of sum(2, 4) ---> permutation\n",
    "        # (value,) + permutation = (4,) + (2,2) = (4,2,2) \n",
    "        # VALUE\n",
    "\n",
    "        # ... \n",
    "\n",
    "        # with value = 4\n",
    "        # for permutation in sum(1, 0) -- (4-4)\n",
    "        # sum(1, 0):\n",
    "        # go to length == 1:\n",
    "        # yield (0,)\n",
    "        # (0,) yielded onto result of sum(1, 0) ---> permutation\n",
    "        # (value,) + permutation = (4,) + (0,) = (4,0)\n",
    "        # (4,0) yielded onto result of sum(2, 4) ---> permutation\n",
    "        # (value,) + permutation = (4,) + (4,0) = (4,4,0) "
   ]
  },
  {
   "cell_type": "code",
   "execution_count": 842,
   "metadata": {},
   "outputs": [
    {
     "data": {
      "text/plain": [
       "[(2, 4, 4), (3, 3, 4), (3, 4, 3), (4, 2, 4), (4, 3, 3), (4, 4, 2)]"
      ]
     },
     "execution_count": 842,
     "metadata": {},
     "output_type": "execute_result"
    }
   ],
   "source": [
    "results = list(sums(3, 10))\n",
    "\n",
    "results"
   ]
  },
  {
   "cell_type": "code",
   "execution_count": 1082,
   "metadata": {},
   "outputs": [],
   "source": [
    "#@lru_cache(maxsize=10000)\n",
    "def permutations_w_constraints(n_perm_elements, sum_total, min_value, max_value):\n",
    "    # base case\n",
    "    if n_perm_elements == 1:\n",
    "        if (sum_total <= max_value) & (sum_total >= min_value):\n",
    "            yield (sum_total,)\n",
    "    else:\n",
    "        for value in range(min_value, max_value + 1):\n",
    "            for permutation in permutations_w_constraints(\n",
    "                n_perm_elements - 1, sum_total - value,  min_value, max_value\n",
    "            ):\n",
    "                yield (value,) + permutation"
   ]
  },
  {
   "cell_type": "code",
   "execution_count": 1068,
   "metadata": {},
   "outputs": [],
   "source": [
    "# digits\n",
    "n_digits = 10\n",
    "# possible space values\n",
    "space_options = 5"
   ]
  },
  {
   "cell_type": "code",
   "execution_count": 1077,
   "metadata": {},
   "outputs": [],
   "source": [
    "results = list(permutations_w_constraints(n_digits, 40, 1, space_options))"
   ]
  },
  {
   "cell_type": "code",
   "execution_count": 1081,
   "metadata": {},
   "outputs": [
    {
     "data": {
      "text/plain": [
       "(1, 1, 3, 5, 5, 5, 5, 5, 5, 5)"
      ]
     },
     "execution_count": 1081,
     "metadata": {},
     "output_type": "execute_result"
    }
   ],
   "source": [
    "results[0]"
   ]
  },
  {
   "cell_type": "code",
   "execution_count": 1063,
   "metadata": {},
   "outputs": [
    {
     "data": {
      "text/plain": [
       "(5, 5, 5, 5, 5, 5, 5, 3, 1, 1)"
      ]
     },
     "execution_count": 1063,
     "metadata": {},
     "output_type": "execute_result"
    }
   ],
   "source": [
    "results[-1]"
   ]
  },
  {
   "cell_type": "code",
   "execution_count": null,
   "metadata": {},
   "outputs": [],
   "source": []
  },
  {
   "cell_type": "code",
   "execution_count": 117,
   "metadata": {},
   "outputs": [],
   "source": [
    "from scipy.stats import chisquare, kstest, uniform\n",
    "import numpy as np"
   ]
  },
  {
   "cell_type": "code",
   "execution_count": 14,
   "metadata": {},
   "outputs": [],
   "source": [
    "from augmentation.sequence_generators import NumberSequenceGenerator"
   ]
  },
  {
   "cell_type": "code",
   "execution_count": 44,
   "metadata": {},
   "outputs": [],
   "source": [
    "digits = [1,3,7,6,2]\n",
    "spacing_range = (3, 7)\n",
    "image_width = 155"
   ]
  },
  {
   "cell_type": "code",
   "execution_count": 45,
   "metadata": {},
   "outputs": [],
   "source": [
    "nsg = NumberSequenceGenerator(spacing_method='random_selection')"
   ]
  },
  {
   "cell_type": "code",
   "execution_count": 46,
   "metadata": {},
   "outputs": [],
   "source": [
    "mnist_digit_sequence = nsg.generate_numbers_sequence(digits, spacing_range, image_width)"
   ]
  },
  {
   "cell_type": "code",
   "execution_count": 137,
   "metadata": {},
   "outputs": [],
   "source": [
    "result = []\n",
    "for i in range(3000):\n",
    "    for space in nsg._calculate_digit_spacing(len(digits), 15, spacing_range):\n",
    "        result.append(space.shape[1])"
   ]
  },
  {
   "cell_type": "code",
   "execution_count": 142,
   "metadata": {},
   "outputs": [],
   "source": [
    "normed_result = [x / max(result) for x in result]"
   ]
  },
  {
   "cell_type": "code",
   "execution_count": 133,
   "metadata": {},
   "outputs": [],
   "source": [
    "r = uniform.rvs(size=5000)"
   ]
  },
  {
   "cell_type": "code",
   "execution_count": 134,
   "metadata": {},
   "outputs": [
    {
     "data": {
      "text/plain": [
       "array([0.69845453, 0.8408143 , 0.08991954, 0.19349586, 0.81692744,\n",
       "       0.31598858, 0.28021647, 0.22857002, 0.07349971, 0.29655278])"
      ]
     },
     "execution_count": 134,
     "metadata": {},
     "output_type": "execute_result"
    }
   ],
   "source": [
    "r[0:10]"
   ]
  },
  {
   "cell_type": "code",
   "execution_count": 135,
   "metadata": {},
   "outputs": [
    {
     "data": {
      "text/plain": [
       "KstestResult(statistic=0.011414930489869302, pvalue=0.5325422768871001)"
      ]
     },
     "execution_count": 135,
     "metadata": {},
     "output_type": "execute_result"
    }
   ],
   "source": [
    "kstest(r, 'uniform')"
   ]
  },
  {
   "cell_type": "code",
   "execution_count": 144,
   "metadata": {},
   "outputs": [
    {
     "data": {
      "text/plain": [
       "KstestResult(statistic=0.5, pvalue=0.0)"
      ]
     },
     "execution_count": 144,
     "metadata": {},
     "output_type": "execute_result"
    }
   ],
   "source": [
    "kstest(normed_result, 'uniform')"
   ]
  },
  {
   "cell_type": "code",
   "execution_count": 148,
   "metadata": {},
   "outputs": [
    {
     "data": {
      "text/plain": [
       "KstestResult(statistic=0.5000139062279947, pvalue=0.0)"
      ]
     },
     "execution_count": 148,
     "metadata": {},
     "output_type": "execute_result"
    }
   ],
   "source": [
    "kstest(r, 'norm')"
   ]
  },
  {
   "cell_type": "code",
   "execution_count": 149,
   "metadata": {},
   "outputs": [
    {
     "name": "stderr",
     "output_type": "stream",
     "text": [
      "/Users/nicolassandller/opt/anaconda3/lib/python3.7/site-packages/ipykernel_launcher.py:1: MatplotlibDeprecationWarning: \n",
      "The 'normed' kwarg was deprecated in Matplotlib 2.1 and will be removed in 3.1. Use 'density' instead.\n",
      "  \"\"\"Entry point for launching an IPython kernel.\n"
     ]
    },
    {
     "data": {
      "text/plain": [
       "(array([0.96031335, 1.05634468, 1.00632836, 1.04033946, 0.97631857,\n",
       "        1.04033946, 1.02833554, 0.9243016 , 0.9663153 , 1.00432771]),\n",
       " array([3.48577443e-05, 1.00002228e-01, 1.99969599e-01, 2.99936969e-01,\n",
       "        3.99904339e-01, 4.99871710e-01, 5.99839080e-01, 6.99806450e-01,\n",
       "        7.99773821e-01, 8.99741191e-01, 9.99708562e-01]),\n",
       " <a list of 1 Patch objects>)"
      ]
     },
     "execution_count": 149,
     "metadata": {},
     "output_type": "execute_result"
    },
    {
     "data": {
      "image/png": "[encoded data removed]",
      "text/plain": [
       "<Figure size 432x288 with 1 Axes>"
      ]
     },
     "metadata": {
      "needs_background": "light"
     },
     "output_type": "display_data"
    }
   ],
   "source": [
    "plt.hist(r, normed=True, histtype='stepfilled', alpha=0.2)"
   ]
  },
  {
   "cell_type": "code",
   "execution_count": 151,
   "metadata": {},
   "outputs": [
    {
     "name": "stderr",
     "output_type": "stream",
     "text": [
      "/Users/nicolassandller/opt/anaconda3/lib/python3.7/site-packages/ipykernel_launcher.py:1: MatplotlibDeprecationWarning: \n",
      "The 'normed' kwarg was deprecated in Matplotlib 2.1 and will be removed in 3.1. Use 'density' instead.\n",
      "  \"\"\"Entry point for launching an IPython kernel.\n"
     ]
    },
    {
     "data": {
      "text/plain": [
       "(array([10.00166667,  0.        ,  0.        ,  5.98833333,  0.        ,\n",
       "         0.        ,  3.01833333,  0.        ,  0.        ,  0.99166667]),\n",
       " array([0.5 , 0.55, 0.6 , 0.65, 0.7 , 0.75, 0.8 , 0.85, 0.9 , 0.95, 1.  ]),\n",
       " <a list of 1 Patch objects>)"
      ]
     },
     "execution_count": 151,
     "metadata": {},
     "output_type": "execute_result"
    },
    {
     "data": {
      "image/png": "[encoded data removed]",
      "text/plain": [
       "<Figure size 432x288 with 1 Axes>"
      ]
     },
     "metadata": {
      "needs_background": "light"
     },
     "output_type": "display_data"
    }
   ],
   "source": [
    "plt.hist(normed_result, normed=True, histtype='stepfilled', alpha=0.2)"
   ]
  },
  {
   "cell_type": "code",
   "execution_count": null,
   "metadata": {},
   "outputs": [],
   "source": []
  }
 ],
 "metadata": {
  "kernelspec": {
   "display_name": "Python 3",
   "language": "python",
   "name": "python3"
  },
  "language_info": {
   "codemirror_mode": {
    "name": "ipython",
    "version": 3
   },
   "file_extension": ".py",
   "mimetype": "text/x-python",
   "name": "python",
   "nbconvert_exporter": "python",
   "pygments_lexer": "ipython3",
   "version": "3.7.4"
  }
 },
 "nbformat": 4,
 "nbformat_minor": 2
}
